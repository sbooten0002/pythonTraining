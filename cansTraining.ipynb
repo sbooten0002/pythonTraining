{
 "cells": [
  {
   "cell_type": "markdown",
   "metadata": {},
   "source": [
    "### Imports"
   ]
  },
  {
   "cell_type": "code",
   "execution_count": 2,
   "metadata": {},
   "outputs": [],
   "source": [
    "import pandas as pd\n",
    "import numpy as np"
   ]
  },
  {
   "cell_type": "code",
   "execution_count": 3,
   "metadata": {},
   "outputs": [
    {
     "name": "stdout",
     "output_type": "stream",
     "text": [
      "    A         B  C          D\n",
      "0  52  0.280935  X 2023-01-01\n",
      "1  93  0.542696  X 2023-01-02\n",
      "2  15  0.140924  Z 2023-01-03\n",
      "3  72  0.802197  Y 2023-01-04\n",
      "4  61  0.074551  X 2023-01-05\n"
     ]
    }
   ],
   "source": [
    "\n",
    "# Set a seed for reproducibility\n",
    "np.random.seed(42)\n",
    "\n",
    "# Create a DataFrame with 100 rows\n",
    "df = pd.DataFrame({\n",
    "    'A': np.random.randint(1, 100, 100),  # Integer values\n",
    "    'B': np.random.rand(100),             # Float values\n",
    "    'C': np.random.choice(['X', 'Y', 'Z'], 100),  # Categorical values\n",
    "    'D': pd.date_range('20230101', periods=100)   # Date values\n",
    "})\n",
    "\n",
    "# Display the first few rows of the DataFrame\n",
    "print(df.head())"
   ]
  },
  {
   "cell_type": "code",
   "execution_count": 8,
   "metadata": {},
   "outputs": [
    {
     "name": "stdout",
     "output_type": "stream",
     "text": [
      "   A  B  C  D\n",
      "0  2  2  2  0\n",
      "1  3  1  3  0\n",
      "2  0  1  2  2\n",
      "3  2  3  0  1\n",
      "4  2  1  3  1\n"
     ]
    }
   ],
   "source": [
    "\n",
    "\n",
    "# Set a seed for reproducibility\n",
    "np.random.seed(42)\n",
    "\n",
    "# Create a DataFrame with 100 rows\n",
    "df = pd.DataFrame({\n",
    "    'A': np.random.randint(0, 4, 100),  # Integer values ranging from 0 to 3\n",
    "    'B': np.random.randint(0, 4, 100),  # Integer values ranging from 0 to 3\n",
    "    'C': np.random.randint(0, 4, 100),  # Integer values ranging from 0 to 3\n",
    "    'D': np.random.randint(0, 4, 100)   # Integer values ranging from 0 to 3\n",
    "})\n",
    "\n",
    "# Display the first few rows of the DataFrame\n",
    "print(df.head())"
   ]
  },
  {
   "cell_type": "code",
   "execution_count": 4,
   "metadata": {},
   "outputs": [],
   "source": [
    "cans_items = [\n",
    "    # Family\n",
    "    \"Family Functioning\", \"Living Situation\",\n",
    "\n",
    "    # School\n",
    "    \"School Achievement\", \"School Behavior\", \"School Attendance\",\n",
    "\n",
    "    # Community\n",
    "    \"Community Involvement\", \"Peer Relationships\",\n",
    "\n",
    "    # Behavioral/Emotional Needs\n",
    "    \"Emotional/Behavioral Regulation\", \"Anxiety\",\n",
    "    \"Depression\", \"Adjustment to Trauma\",\n",
    "\n",
    "    # Risk Behaviors\n",
    "    \"Self-Harm\", \"Substance Use\", \"Delinquent Behavior\",\n",
    "    \"Suicidality\",\n",
    "\n",
    "    # Life Skills\n",
    "    \"Self-Care/Daily Living Skills\", \"Decision-Making\",\n",
    "\n",
    "    # Strengths\n",
    "    \"Family Strengths\", \"Interpersonal Skills\", \"Optimism\",\n",
    "    \"Talents/Interests\",\n",
    "\n",
    "    # Developmental Needs\n",
    "    \"Developmental Delays\", \"Communication\", \"Motor Skills\",\n",
    "\n",
    "    # Cultural Factors\n",
    "    \"Language\", \"Cultural Identity\",\n",
    "\n",
    "    # Caregiver Resources and Needs\n",
    "    \"Caregiver Capacity\", \"Caregiver Stress\",\n",
    "    \n",
    "    # Additional Common CANS Items\n",
    "    # Child Strengths\n",
    "    \"Family\", \"Interpersonal\", \"Optimism\", \"Educational\", \n",
    "    \"Vocational\", \"Spiritual/Religious\", \"Community Life\", \"Natural Supports\",\n",
    "    \n",
    "    # Behavioral/Emotional Needs\n",
    "    \"Psychosis\", \"Impulsivity/Hyperactivity\", \"Oppositional\",\n",
    "    \"Conduct\", \"Anger Control\", \"Eating Disturbance\", \"Attachment\", \"Sexual Development\", \n",
    "\n",
    "    # Life Domain Functioning\n",
    "    \"Developmental/Intellectual\", \"Medical/Physical\", \n",
    "    \"Sleep\", \"Sexuality\", \"Family\", \"Living Situation\", \"Legal\", \"Medical\", \"Nutrition\", \n",
    "    \"Grooming\", \"Mobility\", \n",
    "\n",
    "    # Youth Strengths\n",
    "    \"Family Strengths\", \"Peer Strengths\", \"Emotional Strengths\", \n",
    "    \"Spiritual/Religious Strengths\", \"Community Involvement\", \"Youth Resiliency\",\n",
    "\n",
    "    # Acculturation\n",
    "    \"Acculturation\", \"Language\", \"Identity\", \"Ritual\", \"Cultural Stress\",\n",
    "\n",
    "    # Child and Family Involvement in Services\n",
    "    \"Family Involvement\", \n",
    "    \"Child Involvement\", \"Child Participation in Treatment\", \"Treatment Needs\",\n",
    "    \n",
    "    # Transition to Adulthood\n",
    "    \"Employment\", \"Living Skills\", \"Educational Attainment\",\n",
    "    \"Living Situation\", \"Transportation\", \"Social Network\", \"Parenting Role\",\n",
    "    \n",
    "    # Trauma Experiences\n",
    "    \"Sexual Abuse\", \"Physical Abuse\", \"Emotional Abuse\", \n",
    "    \"Neglect\", \"Medical Trauma\", \"Witness to Family Violence\", \"Community Violence\", \n",
    "    \"Natural Disaster\", \"War/Terrorism\", \"Witness to Criminal Activity\", \"Traumatic Loss\",\n",
    "\n",
    "    # Trauma Stress Symptoms\n",
    "    \"Adjustment to Trauma\", \"Trauma-related Anxiety\", \n",
    "    \"Trauma-related Depression\", \"Trauma-related Anger\", \"Reexperiencing\", \n",
    "    \"Avoidance\", \"Numbing\", \"Dissociation\"\n",
    "]\n",
    "\n",
    "# Remove duplicates by converting to a set and back to a list\n",
    "unique_cans_items = list(set(cans_items))\n",
    "\n",
    "# Optionally, sort the list to maintain a consistent order\n",
    "unique_cans_items.sort()\n",
    "\n",
    "# Display the unique items\n",
    "print(unique_cans_items)"
   ]
  }
 ],
 "metadata": {
  "kernelspec": {
   "display_name": "Python 3",
   "language": "python",
   "name": "python3"
  },
  "language_info": {
   "codemirror_mode": {
    "name": "ipython",
    "version": 3
   },
   "file_extension": ".py",
   "mimetype": "text/x-python",
   "name": "python",
   "nbconvert_exporter": "python",
   "pygments_lexer": "ipython3",
   "version": "3.10.4"
  }
 },
 "nbformat": 4,
 "nbformat_minor": 2
}
