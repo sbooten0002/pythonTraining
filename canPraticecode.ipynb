{
 "cells": [
  {
   "cell_type": "markdown",
   "metadata": {},
   "source": [
    "## Pratice Code\n",
    "- This will be where I'll store my pratice code while I work on Cans. I want to keep the pratice code in case it's useful to look back on. "
   ]
  },
  {
   "cell_type": "code",
   "execution_count": 1,
   "metadata": {},
   "outputs": [],
   "source": [
    "### Importing libaries in order to run pratice code\n",
    "import pandas as pd\n",
    "import numpy as np"
   ]
  },
  {
   "cell_type": "markdown",
   "metadata": {},
   "source": [
    "The code below will create a DataFRame with 100 rows and 4 columns of different types of dummy data "
   ]
  },
  {
   "cell_type": "code",
   "execution_count": 2,
   "metadata": {},
   "outputs": [
    {
     "name": "stdout",
     "output_type": "stream",
     "text": [
      "    A         B  C          D\n",
      "0  52  0.280935  X 2023-01-01\n",
      "1  93  0.542696  X 2023-01-02\n",
      "2  15  0.140924  Z 2023-01-03\n",
      "3  72  0.802197  Y 2023-01-04\n",
      "4  61  0.074551  X 2023-01-05\n"
     ]
    }
   ],
   "source": [
    "# Set a seed for reproducibility\n",
    "np.random.seed(42)\n",
    "\n",
    "# Create a DataFrame with 100 rows\n",
    "df = pd.DataFrame({\n",
    "    'A': np.random.randint(1, 100, 100),  # Integer values\n",
    "    'B': np.random.rand(100),             # Float values\n",
    "    'C': np.random.choice(['X', 'Y', 'Z'], 100),  # Categorical values\n",
    "    'D': pd.date_range('20230101', periods=100)   # Date values\n",
    "})\n",
    "\n",
    "# Display the first few rows of the DataFrame\n",
    "print(df.head())"
   ]
  },
  {
   "cell_type": "markdown",
   "metadata": {},
   "source": [
    "The code will create a DataFrame with 100 rows and 4 columns, where each column contains integer values ranging from 0 to 3."
   ]
  },
  {
   "cell_type": "code",
   "execution_count": 3,
   "metadata": {},
   "outputs": [
    {
     "name": "stdout",
     "output_type": "stream",
     "text": [
      "   A  B  C  D\n",
      "0  2  2  2  0\n",
      "1  3  1  3  0\n",
      "2  0  1  2  2\n",
      "3  2  3  0  1\n",
      "4  2  1  3  1\n"
     ]
    }
   ],
   "source": [
    "# Set a seed for reproducibility\n",
    "np.random.seed(42)\n",
    "\n",
    "# Create a DataFrame with 100 rows\n",
    "df = pd.DataFrame({\n",
    "    'A': np.random.randint(0, 4, 100),  # Integer values ranging from 0 to 3\n",
    "    'B': np.random.randint(0, 4, 100),  # Integer values ranging from 0 to 3\n",
    "    'C': np.random.randint(0, 4, 100),  # Integer values ranging from 0 to 3\n",
    "    'D': np.random.randint(0, 4, 100)   # Integer values ranging from 0 to 3\n",
    "})\n",
    "\n",
    "# Display the first few rows of the DataFrame\n",
    "print(df.head())"
   ]
  },
  {
   "cell_type": "code",
   "execution_count": null,
   "metadata": {},
   "outputs": [],
   "source": []
  }
 ],
 "metadata": {
  "kernelspec": {
   "display_name": "Python 3",
   "language": "python",
   "name": "python3"
  },
  "language_info": {
   "codemirror_mode": {
    "name": "ipython",
    "version": 3
   },
   "file_extension": ".py",
   "mimetype": "text/x-python",
   "name": "python",
   "nbconvert_exporter": "python",
   "pygments_lexer": "ipython3",
   "version": "3.10.4"
  }
 },
 "nbformat": 4,
 "nbformat_minor": 2
}
